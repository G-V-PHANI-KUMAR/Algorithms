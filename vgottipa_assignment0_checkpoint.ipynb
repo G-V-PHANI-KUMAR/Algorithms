{
 "cells": [
  {
   "cell_type": "markdown",
   "metadata": {},
   "source": [
    "<div align=\"center\"> <h3><font color='cyan'>CSE 574 Section D: Introduction to Machine Learning, Fall 2023 </font> \n",
    "<h1> Assignment 0 - Python Introduction\n",
    "\n",
    "<h3>Checkpoint: September 7, Thu, 11:59pm\n",
    "<h2><font color='red'>Final Due Date: </font> September 14, Thu, 11:59pm</div>\n",
    "\n",
    "Welcome to your first CSE 574 assignment! The goal of this assignment is to sharpen your programming skills needed for this class. It is focused on familiarizing yourself with Python and main data science libraries that will be used for other assignments as well.\n",
    "\n",
    "There are a total of six parts. We will focus on basic Python functions, explore numpy, pandas, matplotlib, scikit-learn libraries,  and analyze the real-world dataset.\n",
    "\n",
    "If you are new to Python, check our [Python resources page](https://ubuffalo-my.sharepoint.com/:w:/g/personal/avereshc_buffalo_edu/EZoQjG_dJpNJgOPmzjIVtCQBdMUeNL9llFbOSQyFYidk7w?e=Tds2E3) and our Recitation 0 & 1.\n",
    "\n",
    "\n",
    "### Submission\n",
    "\n",
    "All the details you need for this assignment are located within this notebook. You are expected to follow every block and complete the task within the marks ``` # BEGIN_YOUR_CODE ``` and ```# END_YOUR_CODE```. Do not modify or edit code beyond these lines. You can add helper functions in the new cells, if needed. We recommend completing the task within this .ipynb notebook, if needed you can convert it and submit as .py script. Try to make your code as clean and simple as possible and be sure to write your answers between the begin answer and end answer comments.\n",
    "\n",
    "1. Submit at **Brighspace > Assesments > Assignments**\n",
    "2. The code of your implementations should be written in Python\n",
    "3. All project files should be submitted as jupyter notebooks named UBIT_assignment0_checkpoint.ipynb or UBIT_assignment0_final.ipynb, e.g. avereshc_assignment0_checkpoint.ipynb or avereshc_assignment0_final.ipynb.\n",
    "4. Please submit a .ipynb file only. Submitions with .py, .json, .pdf or any other type won't be considered for evaluation. Your Jupyter notebook should be saved with the results.  \n",
    "5. Include all the references that have been used to complete the assignment.\n",
    "\n",
    "### Checkpoint Submission <font color='red'>[Due Date: Sep 7]</font>\n",
    "Complete Part 1, Part 2, Part 3 and submit the code in the .ipynb file named UBIT_assignment0_checkpoint.ipynb. Checkpoint will be evaluated after the final submission.\n",
    "\n",
    "### Final Submission <font color='red'>[Due Date: Sep 14]</font>\n",
    "Complete all parts of the assignment and submit the code in the .ipynb file named UBIT_assignment0_final.ipynb. You may add slight modification to your Checkpoint submission if needed.\n",
    "\n",
    "**Assignment Outline**\n",
    "\n",
    "| Part | Description | # of tasks | Points |\n",
    "| --- | --- | --- | --- |\n",
    "| [Part 1](#part1) | Python & Numpy Basics | 21 | 25 |\n",
    "| [Part 2](#part2) | Algorithms | 2 | 10 |\n",
    "| [Part 3](#part3) | Pandas Basics | 9 | 15 |\n",
    "| [Part 4](#part4) | Matplotlib Basics | 8 | 20 |\n",
    "| [Part 5](#part5) | Scikit Learn Basics | 3 | 20 |\n",
    "| [Part 6](#part6) | Optuna Basics | 2 | 10 |\n",
    "| [References](#references) | Include all the references used |\n",
    "\n",
    "    \n",
    "### Academic Integrity\n",
    "\n",
    "This task must be completed individually.\n",
    "The standing policy of the Department is that all students involved in any academic integrity violation (e.g. plagiarism in any way, shape, or form) will receive an F grade for the course. The catalog describes plagiarism as “Copying or receiving material from any source and submitting that material as one’s own, without acknowledging and citing the particular debts to the source, or in any other manner representing the work of another as one’s own.”. Refer to the [Office of Academic Integrity](https://www.buffalo.edu/academic-integrity.html) for more details.\n",
    "\n",
    "\n",
    "### Late Days Policy\n",
    "You can use up to 7 late days throughout the course toward any programming taks, assignments' checkpoint or final submission. You do not have to inform the instructor, as the late submission will be tracked in UBlearns.\n",
    "\n",
    "### FAQ\n",
    ">What does 'raise Exception(\"Not implemented yet\")' mean?\n",
    "\n",
    "Here we define a custom exception to highlight that the task is not implemented yet. Once you implement your code, ensure to remove this part.\n",
    "\n",
    ">Can I add code beyond # BEGIN_YOUR_CODE parts.\n",
    "\n",
    "Yes, you can add helper functions. Add them in the separate cell with the comments, why you need it"
   ]
  },
  {
   "cell_type": "markdown",
   "metadata": {},
   "source": [
    "<a id='part1'></a>\n",
    "## Part 1: Python and Numpy Basics [20 Points]"
   ]
  },
  {
   "cell_type": "markdown",
   "metadata": {},
   "source": [
    "The first part of this assignment gives you practice with python syntax. Follow the cells below for the instructions."
   ]
  },
  {
   "cell_type": "code",
   "execution_count": 1,
   "metadata": {},
   "outputs": [
    {
     "name": "stdout",
     "output_type": "stream",
     "text": [
      "Hello UB! Hello UB! Hello UB! Hello UB! Hello UB! Hello UB! Hello UB! Hello UB! Hello UB! Hello UB! Hello UB! Hello UB! Hello UB! Hello UB! Hello UB! Hello UB! Hello UB! Hello UB! Hello UB! Hello UB! Hello UB! Hello UB! Hello UB! Hello UB! Hello UB! Hello UB! Hello UB! Hello UB! Hello UB! Hello UB! Hello UB! Hello UB! Hello UB! Hello UB! Hello UB! Hello UB! Hello UB! Hello UB! Hello UB! Hello UB! Hello UB! Hello UB! Hello UB! Hello UB! Hello UB! Hello UB! Hello UB! Hello UB! Hello UB! Hello UB! Hello UB! Hello UB! Hello UB! Hello UB! Hello UB! Hello UB! Hello UB! Hello UB! Hello UB! Hello UB! Hello UB! Hello UB! Hello UB! Hello UB! Hello UB! Hello UB! Hello UB! Hello UB! Hello UB! Hello UB! Hello UB! Hello UB! Hello UB! Hello UB! Hello UB! Hello UB! Hello UB! Hello UB! Hello UB! Hello UB! Hello UB! Hello UB! Hello UB! Hello UB! Hello UB! Hello UB! Hello UB! Hello UB! Hello UB! Hello UB! Hello UB! Hello UB! Hello UB! Hello UB! Hello UB! Hello UB! Hello UB! Hello UB! Hello UB! Hello UB! Hello UB! \n"
     ]
    }
   ],
   "source": [
    "''' 1. Hello UB\n",
    "Write a function that will print a phrase \"Hello UB! \" 101 times\n",
    "\n",
    "Expected Output: \"Hello UB! Hello UB! Hello UB! Hello UB! Hello UB! ........\"\n",
    "'''\n",
    "\n",
    "# BEGIN_YOUR_CODE\n",
    "def greet():\n",
    "    print(101*\"Hello UB! \")\n",
    "    \n",
    "greet()\n",
    "# END_YOUR_CODE"
   ]
  },
  {
   "cell_type": "code",
   "execution_count": 106,
   "metadata": {},
   "outputs": [
    {
     "data": {
      "text/plain": [
       "['TX', 'DA', 'FL', 'CA', 'NY']"
      ]
     },
     "execution_count": 106,
     "metadata": {},
     "output_type": "execute_result"
    }
   ],
   "source": [
    "''' 2. Adding elements to a list during the runtime\n",
    "Create an empty list and add five of your favourite holiday destinations to the list during the runtime using functions input() and append()\n",
    "Print out the list.\n",
    "'''\n",
    "\n",
    "# BEGIN_YOUR_CODE\n",
    "spots=[]\n",
    "for spot in range(5):\n",
    "    spots.append(input())\n",
    "spots\n",
    "# END_YOUR_CODE"
   ]
  },
  {
   "cell_type": "code",
   "execution_count": 107,
   "metadata": {},
   "outputs": [
    {
     "data": {
      "text/plain": [
       "[0, 5, 10, 15, 20, 25]"
      ]
     },
     "execution_count": 107,
     "metadata": {},
     "output_type": "execute_result"
    }
   ],
   "source": [
    "''' 3. Updating elements\n",
    "Given a string my_list, update the third element(i.e. 'ten') to 10 and sixth element(i.e. 'twenty five') to 25, so the output is as follows: [0, 5, 10, 15, 20, 25]\n",
    "Print out the updated list.\n",
    "\n",
    "Expected Output: [0, 5, 10, 15, 20, 25]\n",
    "'''\n",
    "\n",
    "my_list = [0, 5, 'ten', 15, 20, 'twenty five']\n",
    "\n",
    "# BEGIN_YOUR_CODE\n",
    "my_list[2],my_list[5]=[10,25]\n",
    "my_list\n",
    "# END_YOUR_CODE"
   ]
  },
  {
   "cell_type": "code",
   "execution_count": 108,
   "metadata": {},
   "outputs": [
    {
     "data": {
      "text/plain": [
       "5"
      ]
     },
     "execution_count": 108,
     "metadata": {},
     "output_type": "execute_result"
    }
   ],
   "source": [
    "''' 4. Counting occurrences \n",
    "Write a function that counts the number of times a given word appears in a sentence. \n",
    "The word should be matched as a whole word, and the search should be case-insensitive.\n",
    "For example: \"The book is on the table\", total occurances of \"the\" is 2.\n",
    "'''\n",
    "\n",
    "sentence = \"The cat and the dog played in the park next to the theater. The cat was happy.\"\n",
    "word_to_count = \"the\"\n",
    "\n",
    "# BEGIN_YOUR_CODE\n",
    "def ocscount(sen,word):\n",
    "    words = list(map(str.lower,sen.split(' ')))\n",
    "    return words.count(word)\n",
    "ocscount(sentence,word_to_count)\n",
    "# END_YOUR_CODE"
   ]
  },
  {
   "cell_type": "code",
   "execution_count": 109,
   "metadata": {},
   "outputs": [
    {
     "name": "stdout",
     "output_type": "stream",
     "text": [
      "1 \n",
      "2 4 \n",
      "3 6 9 \n",
      "4 8 12 16 \n",
      "1 \n",
      "2 4 \n",
      "3 6 9 \n",
      "4 8 12 16 \n",
      "5 10 15 20 25 \n",
      "6 12 18 24 30 36 \n"
     ]
    }
   ],
   "source": [
    "''' 5. Pattern\n",
    "Create a function that generates and prints a specific number pattern based on the input integer n. \n",
    "The pattern consists of rows where each row contains consecutive multiples of the row number.\n",
    "\n",
    "Example Output:\n",
    "\n",
    "For 'n = 3', the pattern will be:\n",
    "1\n",
    "2 4\n",
    "3 6 9\n",
    "\n",
    "For 'n = 6', the pattern will be:\n",
    "1\n",
    "2 4\n",
    "3 6 9\n",
    "4 8 12 16\n",
    "5 10 15 20 25\n",
    "6 12 18 24 30 36\n",
    "\n",
    "Only submissions with a written function that will encode this exact pattern will be considered for evaluation\n",
    "'''\n",
    "\n",
    "# BEGIN_YOUR_CODE\n",
    "\n",
    "def printpat(n):\n",
    "    for row in range(1,n+1):\n",
    "        for col in range(1,row+1):\n",
    "            print(row*col,end=' ')\n",
    "        print()\n",
    "\n",
    "printpat(4)\n",
    "printpat(6)\n",
    "\n",
    "# END_YOUR_CODE"
   ]
  },
  {
   "cell_type": "code",
   "execution_count": 110,
   "metadata": {},
   "outputs": [
    {
     "data": {
      "text/plain": [
       "['Avengers', 'Age of Ultron', 'Infinity War', 'Endgame']"
      ]
     },
     "execution_count": 110,
     "metadata": {},
     "output_type": "execute_result"
    }
   ],
   "source": [
    "''' 6. Reversing\n",
    "Reverse the order of elements in a list given below, so the expected output is as follows: ['Avengers', 'Age of Ultron', 'Infinity War', 'Endgame']\n",
    "Print the reversed list.\n",
    "\n",
    "'''\n",
    "\n",
    "list1 = [\"Endgame\", \"Infinity War\", \"Age of Ultron\", \"Avengers\"]\n",
    "\n",
    "# BEGIN_YOUR_CODE\n",
    "list1 = list1[::-1]\n",
    "\n",
    "list1\n",
    "# END_YOUR_CODE"
   ]
  },
  {
   "cell_type": "code",
   "execution_count": 111,
   "metadata": {},
   "outputs": [
    {
     "data": {
      "text/plain": [
       "[(1, 'Christian Bale'),\n",
       " (2, 'Chris Evans'),\n",
       " (3, 'Chris Hemsworth'),\n",
       " (4, 'Cate Blanchett')]"
      ]
     },
     "execution_count": 111,
     "metadata": {},
     "output_type": "execute_result"
    }
   ],
   "source": [
    "''' 7. Numbering a list\n",
    "Write a function that will return a numbered list of the famous actors whose name starts from 'C' using \"enumerate()\" function.\n",
    "Print the numbered list\n",
    "\n",
    "Expected output:\n",
    "1. Christian Bale\n",
    "2. Chris Evans\n",
    "3. Chris Hemsworth\n",
    "4. Cate Blanchett\n",
    "\n",
    "'''\n",
    "\n",
    "actors = ['Margot Robbie', 'Christian Bale', 'Ryan Gosling', 'Chris Evans', 'Chris Hemsworth', 'Cate Blanchett']\n",
    "\n",
    "# BEGIN_YOUR_CODE\n",
    "\n",
    "def enum(numlist):\n",
    "    return list(enumerate(list(filter(lambda s:s.startswith('C'),numlist)),start=1))\n",
    "\n",
    "numlist = enum(actors)\n",
    "\n",
    "numlist\n",
    "    \n",
    "\n",
    "# END_YOUR_CODE"
   ]
  },
  {
   "cell_type": "code",
   "execution_count": 112,
   "metadata": {},
   "outputs": [
    {
     "data": {
      "text/plain": [
       "[('Robert Downey Jr.', 'Iron Man'),\n",
       " ('Scarlett Johansson', 'Black Widow'),\n",
       " ('Chris Evans', 'Captain America'),\n",
       " ('Chris Hemsworth', 'Thor'),\n",
       " ('Mark Ruffalo', 'Hulk')]"
      ]
     },
     "execution_count": 112,
     "metadata": {},
     "output_type": "execute_result"
    }
   ],
   "source": [
    "''' 8. Combining lists\n",
    "Combine two lists given below using zip() function and print out the result\n",
    "Print the combined list\n",
    "\n",
    "'''\n",
    "\n",
    "actors = ['Robert Downey Jr.', 'Scarlett Johansson', 'Chris Evans', 'Chris Hemsworth', 'Mark Ruffalo']\n",
    "role = ['Iron Man', 'Black Widow', 'Captain America', 'Thor', 'Hulk']\n",
    "\n",
    "# BEGIN_YOUR_CODE\n",
    "list(zip(actors,role))\n",
    "# END_YOUR_CODE"
   ]
  },
  {
   "cell_type": "code",
   "execution_count": 113,
   "metadata": {},
   "outputs": [],
   "source": [
    "''' 9. Sum function\n",
    "Modify the given function to compute and return the sum of two integer values a and b\n",
    "'''\n",
    "\n",
    "def add(a: int, b: int) -> int:\n",
    "\n",
    "    # BEGIN_YOUR_CODE\n",
    "\n",
    "    return a+b\n",
    "\n",
    "    # END_YOUR_CODE"
   ]
  },
  {
   "cell_type": "markdown",
   "metadata": {},
   "source": [
    "We defined ```add_test``` to test your ```add``` function. For this function we ```import random``` library. This is a very commonly used package that helps to generate random values. For example:\n",
    "\n",
    "``` python\n",
    "random.randint(0, 100) #Returns any random integer in range [0, 100]\n",
    "```"
   ]
  },
  {
   "cell_type": "code",
   "execution_count": 114,
   "metadata": {},
   "outputs": [],
   "source": [
    "import random\n",
    "\n",
    "def add_test():\n",
    "    a = random.randint(0, 9)\n",
    "    b = random.randint(0, 9)\n",
    "    result = add(a, b)\n",
    "\n",
    "    return('Value of a is {0}, value of b is {1}, and their sum is {2}.'.format(a, b,result))"
   ]
  },
  {
   "cell_type": "code",
   "execution_count": 115,
   "metadata": {},
   "outputs": [
    {
     "name": "stdout",
     "output_type": "stream",
     "text": [
      "Value of a is 5, value of b is 5, and their sum is 10.\n"
     ]
    }
   ],
   "source": [
    "# Here we call our function 'add_test' to test your add function with random values\n",
    "if __name__ == '__main__':\n",
    "   print(add_test())"
   ]
  },
  {
   "cell_type": "markdown",
   "metadata": {},
   "source": [
    "In this section we will explore one of the most commonly used package - Numpy. You can refer to the [Official NumPy Guide](https://numpy.org/doc/stable/)."
   ]
  },
  {
   "cell_type": "code",
   "execution_count": 116,
   "metadata": {},
   "outputs": [],
   "source": [
    "''' 10. Import the numpy package\n",
    "'''\n",
    "\n",
    "# BEGIN_YOUR_CODE\n",
    "\n",
    "import numpy as np\n",
    "\n",
    "# END_YOUR_CODE"
   ]
  },
  {
   "cell_type": "code",
   "execution_count": 117,
   "metadata": {},
   "outputs": [
    {
     "data": {
      "text/plain": [
       "array([ 7, 32, 40, 33, 18, 32, 40, 13, 23,  9])"
      ]
     },
     "execution_count": 117,
     "metadata": {},
     "output_type": "execute_result"
    }
   ],
   "source": [
    "''' 11. Random integers\n",
    "Create a function that uses the NumPy library to generate an array of 10 random integers. \n",
    "The integers should be in the range [0, 50], both inclusive.\n",
    "Print the results.\n",
    "\n",
    "Example Output:\n",
    "[0 25 41 14  3  2 49 36  9 42]\n",
    "\n",
    "'''\n",
    "\n",
    "# BEGIN_YOUR_CODE\n",
    "arr = np.random.randint(1,51,size=(10,))\n",
    "arr\n",
    "# END_YOUR_CODE"
   ]
  },
  {
   "cell_type": "code",
   "execution_count": 118,
   "metadata": {},
   "outputs": [
    {
     "name": "stdout",
     "output_type": "stream",
     "text": [
      "The first 2 elements are [ 7 32] \n",
      "The last two elements are [40 33 18 32 40 13] \n",
      "Elements in the middle are [23  9].\n"
     ]
    }
   ],
   "source": [
    "''' 12. Slicing\n",
    "Slice the above array and extract the first 2 elements, the last two elements, and all elements that are left in the middle.\n",
    "'''\n",
    "\n",
    "# BEGIN_YOUR_CODE\n",
    "first_two = arr[:2]\n",
    "last_two = arr[2:-2]\n",
    "middle = arr[-2:]\n",
    "# END_YOUR_CODE\n",
    "\n",
    "print('The first 2 elements are {0} \\nThe last two elements are {1} \\nElements in the middle are {2}.'.format(first_two, last_two, middle))"
   ]
  },
  {
   "cell_type": "code",
   "execution_count": 119,
   "metadata": {},
   "outputs": [
    {
     "data": {
      "text/plain": [
       "[array([ 7, 32]),\n",
       " array([40, 33]),\n",
       " array([18, 32]),\n",
       " array([40, 13]),\n",
       " array([23,  9])]"
      ]
     },
     "execution_count": 119,
     "metadata": {},
     "output_type": "execute_result"
    }
   ],
   "source": [
    "''' 13. Split an array\n",
    "For the above list 'array' split the list into 5 equal parts and print it\n",
    "Output format will be as follows : [array([1,2]), array([3,4]), array([5,6]), array([7,8]), array([9,10])]\n",
    "Use built-in function from NumPy to split array\n",
    "'''\n",
    "\n",
    "# BEGIN_YOUR_CODE\n",
    "arr = np.split(arr,5)\n",
    "\n",
    "arr\n",
    "# END_YOUR_CODE"
   ]
  },
  {
   "cell_type": "code",
   "execution_count": 120,
   "metadata": {},
   "outputs": [
    {
     "name": "stdout",
     "output_type": "stream",
     "text": [
      "A: [ 9 13  1  1 17 16 11  4 20  3]\n",
      "B: [14 18 11 16  8 16 17  5 20 18]\n",
      "[ 1  3  4  9 11 13 16 17 20]\n",
      "[11 16 17 20]\n"
     ]
    }
   ],
   "source": [
    "''' 14. Arrays\n",
    "a. Generate two arrays, 'array_a' and 'array_b', each containing 10 randomly selected integers from the range [1, 20] (both inclusive).\n",
    "b. Print both arrays\n",
    "b. Use a built-in NumPy function to find the unique elements in 'array_a' and store them in the variable 'unique_elements'.\n",
    "c. Use a built-in NumPy function to find the common elements shared by 'array_a' and 'array_b' and store them in the variable 'common_elements'.\n",
    "d. Print 'unique_elements' and 'common_elements'\n",
    "'''\n",
    "\n",
    "# BEGIN_YOUR_CODE\n",
    "A = np.random.randint(1,21,size=(10,))\n",
    "B = np.random.randint(1,21,size=(10,))\n",
    "\n",
    "print(\"A:\",A)\n",
    "print(\"B:\",B)\n",
    "\n",
    "unique_elements = np.unique(A)\n",
    "common_elements = np.intersect1d(A,B)\n",
    "\n",
    "print(unique_elements)\n",
    "print(common_elements)\n",
    "\n",
    "# END_YOUR_CODE"
   ]
  },
  {
   "cell_type": "code",
   "execution_count": 121,
   "metadata": {},
   "outputs": [
    {
     "name": "stdout",
     "output_type": "stream",
     "text": [
      "Element-wise sum: [15 30 45 60 75]\n",
      "Element-wise difference: [ 5 10 15 20 25]\n",
      "Element-wise product with scalar: [ 30  60  90 120 150]\n",
      "Mean of array2: 15.0\n",
      "Maximum value in array1: 50\n"
     ]
    }
   ],
   "source": [
    "''' 15. Array operations\n",
    "You have two arrays, array1 and array2, both containing 5 integer values. Perform the following operations using NumPy functions:\n",
    "a. Calculate the element-wise sum of array1 and array2.\n",
    "b. Calculate the element-wise difference between array1 and array2.\n",
    "c. Calculate the element-wise product of array1 and a scalar value of 3.\n",
    "d. Calculate the mean (average) value of elements in array2.\n",
    "e. Calculate the maximum value in array1.\n",
    "\n",
    "\n",
    "Provide the resulting arrays and values after each operation.\n",
    "\n",
    "Expected output:\n",
    "Element-wise sum: [15 30 45 60 75]\n",
    "Element-wise difference: [ 5 10 15 20 25]\n",
    "Element-wise product with scalar: [ 30  60  90 120 150]\n",
    "Mean of array2: 15.0\n",
    "Maximum value in array1: 50\n",
    "'''\n",
    "\n",
    "array1 = np.array([10, 20, 30, 40, 50])\n",
    "array2 = np.array([5, 10, 15, 20, 25])\n",
    "\n",
    "# BEGIN_YOUR_CODE\n",
    "\n",
    "print(\"Element-wise sum:\",np.add.reduce([array1,array2]))\n",
    "print(\"Element-wise difference:\",np.subtract.reduce([array1,array2]))\n",
    "print(\"Element-wise product with scalar:\",array1*3)\n",
    "print(\"Mean of array2:\",np.mean(array2))\n",
    "print(\"Maximum value in array1:\",np.max(array1))\n",
    "\n",
    "# END_YOUR_CODE"
   ]
  },
  {
   "cell_type": "code",
   "execution_count": 122,
   "metadata": {},
   "outputs": [
    {
     "data": {
      "text/plain": [
       "(2, 5)"
      ]
     },
     "execution_count": 122,
     "metadata": {},
     "output_type": "execute_result"
    }
   ],
   "source": [
    "''' 16. Changing dimensions\n",
    "Combine your 1D arrays defined above to a 2D matrix and print its shape. The final output dimension should be 2x5.\n",
    "'''\n",
    "\n",
    "# BEGIN_YOUR_CODE\n",
    "\n",
    "com_array = np.array([array1,array2])\n",
    "\n",
    "com_array.shape\n",
    "\n",
    "# END_YOUR_CODE"
   ]
  },
  {
   "cell_type": "code",
   "execution_count": 123,
   "metadata": {},
   "outputs": [
    {
     "data": {
      "text/plain": [
       "(6,)"
      ]
     },
     "execution_count": 123,
     "metadata": {},
     "output_type": "execute_result"
    }
   ],
   "source": [
    "''' 17. Changing dimensions\n",
    "Convert a matrix below to 1D array and print its dimension\n",
    "'''\n",
    "\n",
    "A = np.array([[3,4], [5,6], [7,8]])\n",
    "\n",
    "# BEGIN_YOUR_CODE\n",
    "\n",
    "A = A.flatten()\n",
    "\n",
    "A.shape\n",
    "\n",
    "# END_YOUR_CODE"
   ]
  },
  {
   "cell_type": "code",
   "execution_count": 161,
   "metadata": {},
   "outputs": [
    {
     "name": "stdout",
     "output_type": "stream",
     "text": [
      "\n",
      "Matrix A is \n",
      "[[0.58147721 0.89807218 0.46362826 0.7629679  0.31097649 0.35019013]\n",
      " [0.70751289 0.43115727 0.73864257 0.59973587 0.91446574 0.47565474]\n",
      " [0.96283765 0.79298135 0.68315785 0.35578513 0.65183709 0.64871872]\n",
      " [0.02822273 0.35721895 0.69622639 0.80653097 0.26987755 0.15006822]] \n",
      "Matrix B is \n",
      "[[0.40472522 0.88712577 0.86835329 0.48950889]\n",
      " [0.99198172 0.82983366 0.0330896  0.07667863]\n",
      " [0.43728534 0.06445391 0.64965136 0.72329974]\n",
      " [0.97967384 0.86524892 0.05900236 0.58214956]\n",
      " [0.18427073 0.48863538 0.96422222 0.20961763]\n",
      " [0.89961338 0.09736089 0.30582851 0.45137781]], \n",
      "Their product is \n",
      "[[2.44874681 2.13718269 1.2878067  1.35625905]\n",
      " [2.22100619 2.04512143 2.17110092 1.6691785 ]\n",
      " [2.52730651 2.2457461  2.15404175 1.66282415]\n",
      " [1.64509792 1.21067647 0.84233625 1.13861691]]\n"
     ]
    }
   ],
   "source": [
    "''' 18. Matrices\n",
    "a. Create two matrices A and B of size 4X6 and 6X4 respectively with random values in range [0 , 1), 0 is inclusive and 1 is exclusive\n",
    "b. Perform the dot product of matrices A and B\n",
    "c. Print matrix A, matrix B, and their dot product\n",
    "'''\n",
    "\n",
    "# BEGIN_YOUR_CODE\n",
    "A = np.random.rand(4, 6)\n",
    "B = np.random.rand(6, 4)\n",
    "dot_product = np.dot(A,B)\n",
    "# END_YOUR_CODE\n",
    "\n",
    "print('\\nMatrix A is \\n{0} \\nMatrix B is \\n{1}, \\nTheir product is \\n{2}'.format(A, B, dot_product))"
   ]
  },
  {
   "cell_type": "code",
   "execution_count": 130,
   "metadata": {},
   "outputs": [
    {
     "data": {
      "text/plain": [
       "array([[250, 185,  65, 155,  45, 120],\n",
       "       [ 80, 235, 195,  40,  45, 100],\n",
       "       [190,  75, 230,   5, 140, 110],\n",
       "       [ 95, 150,  40, 225,  90, 125]])"
      ]
     },
     "execution_count": 130,
     "metadata": {},
     "output_type": "execute_result"
    }
   ],
   "source": [
    "''' 19. Matrix scalar multiplication\n",
    "a. Multiply the previously defined matrix A by a scalar value of 5 using the multiply() function.\n",
    "b. Print a modified matrix A\n",
    "'''\n",
    "\n",
    "# BEGIN_YOUR_CODE\n",
    "A = A*5\n",
    "\n",
    "A\n",
    "# END_YOUR_CODE"
   ]
  },
  {
   "cell_type": "code",
   "execution_count": 131,
   "metadata": {},
   "outputs": [
    {
     "data": {
      "text/plain": [
       "[250, 235, 230, 225]"
      ]
     },
     "execution_count": 131,
     "metadata": {},
     "output_type": "execute_result"
    }
   ],
   "source": [
    "''' 20. Maximum value\n",
    "a. Use the np.max() function to find the maximum value in each row of matrix A from Question 18.\n",
    "b. Store the resulting maximum values in the variable 'max_values'.\n",
    "c. Print out the results\n",
    "\n",
    "Expected output:\n",
    "max_values = [row1_max row2_max row3_max row4_max row5_max]\n",
    "'''\n",
    "\n",
    "# BEGIN_YOUR_CODE\n",
    "\n",
    "max_values = [np.max(i) for i in A]\n",
    "\n",
    "max_values\n",
    "\n",
    "# END_YOUR_CODE"
   ]
  },
  {
   "cell_type": "code",
   "execution_count": 159,
   "metadata": {},
   "outputs": [
    {
     "name": "stdout",
     "output_type": "stream",
     "text": [
      "\n",
      "Matrix A is \n",
      "[[6 7 7 9]\n",
      " [6 2 3 9]\n",
      " [0 7 6 5]] \n",
      "Matrix B is \n",
      "[[6 0 6 2]\n",
      " [4 5 9 1]\n",
      " [1 9 2 2]], \n",
      "Their element-wise multiplication is \n",
      "[[36  0 42 18]\n",
      " [24 10 27  9]\n",
      " [ 0 63 12 10]]\n"
     ]
    }
   ],
   "source": [
    "''' 21. Element-wise multiplication\n",
    "Define two matrices A (3X4) and B (3X4) with random integer values in range [0, 9], both inclusive. Perform element-wise multiplication of Matrices A and B\n",
    "'''\n",
    "\n",
    "# BEGIN_YOUR_CODE\n",
    "A = np.random.randint(0, 10, size=(3, 4))\n",
    "B = np.random.randint(0, 10, size=(3, 4))\n",
    "multiplication = A*B\n",
    "# END_YOUR_CODE\n",
    "\n",
    "print('\\nMatrix A is \\n{0} \\nMatrix B is \\n{1}, \\nTheir element-wise multiplication is \\n{2}'.format(A, B, multiplication))"
   ]
  },
  {
   "cell_type": "markdown",
   "metadata": {},
   "source": [
    "<a id='part2'></a>\n",
    "## Part 2 - Algorithms [10 Points]"
   ]
  },
  {
   "cell_type": "markdown",
   "metadata": {},
   "source": [
    "### Euclidian Distance\n",
    "\n",
    "Let point $p$ have Cartesian coordinates $(p_1,p_2)$ and let point $q$ have coordinates $(q_1,q_2)$. Then the distance between $p$ and $q$ is given by:\n",
    "    $d(p,q) = \\sqrt{(q_1-p_1)^2 + (q_2-p_2)^2}$.</math>"
   ]
  },
  {
   "cell_type": "code",
   "execution_count": 28,
   "metadata": {},
   "outputs": [],
   "source": [
    "''' 1. Euclidean distance\n",
    "Using numpy library return the Euclidean distance between two locations, where the locations are pairs of numbers (e.g., (3, 5)) '''\n",
    "\n",
    "import math as m\n",
    "import random\n",
    "\n",
    "def euclidean_distance(loc1: tuple[int], loc2: tuple[int]) -> float:\n",
    "\n",
    "    # BEGIN_YOUR_CODE\n",
    "\n",
    "    return m.sqrt((loc2[0]-loc1[0])**2+(loc2[1]-loc1[1])**2)\n",
    "\n",
    "    # END_YOUR_CODE"
   ]
  },
  {
   "cell_type": "code",
   "execution_count": 29,
   "metadata": {},
   "outputs": [],
   "source": [
    "def euclidean_distance_test():\n",
    "    random.seed(42)\n",
    "    for _ in range(10):\n",
    "        x1 = random.randint(0, 10)\n",
    "        x2 = random.randint(0, 10)\n",
    "        y1 = random.randint(0, 10)\n",
    "        y2 = random.randint(0, 10)\n",
    "        dist = euclidean_distance((x1, x2), (y1, y2))\n",
    "    return('Loc1 is ({0}, {1}), loc2 is ({2}, {3}). Euclidian disctance is {4}.'.format(x1, x2, y1, y2, dist))"
   ]
  },
  {
   "cell_type": "code",
   "execution_count": 30,
   "metadata": {},
   "outputs": [
    {
     "name": "stdout",
     "output_type": "stream",
     "text": [
      "Loc1 is (3, 5), loc2 is (1, 1). Euclidian disctance is 4.47213595499958.\n"
     ]
    }
   ],
   "source": [
    "if __name__ == '__main__':\n",
    "    print(euclidean_distance_test())"
   ]
  },
  {
   "cell_type": "markdown",
   "metadata": {},
   "source": [
    "### String Operations"
   ]
  },
  {
   "cell_type": "code",
   "execution_count": 22,
   "metadata": {},
   "outputs": [],
   "source": [
    "''' 2. Alphabetically first word\n",
    "Given a string, lowercase all the elements, then sort our all words in the alphabetical order and return the word that comes first, lexicographically.\n",
    "If the input text is an empty string, return an empty string or throw an error. '''\n",
    "\n",
    "def first_word(text: str) -> str:\n",
    "\n",
    "    # BEGIN_YOUR_CODE\n",
    "\n",
    "    if not text:\n",
    "        return ''\n",
    "    \n",
    "    return sorted(list(map(str.lower,text.split(' '))))[0]\n",
    "\n",
    "    # END_YOUR_CODE"
   ]
  },
  {
   "cell_type": "code",
   "execution_count": 23,
   "metadata": {},
   "outputs": [],
   "source": [
    "''' The output for following test cases will be as follows 'to', 'class', 'decisions', 'cat'\n",
    "'''\n",
    "\n",
    "def first_word_test():\n",
    "    result0 = first_word('WelCome tO Ub')\n",
    "    result1 = first_word('CSE574 IntRo to ML cLasS')\n",
    "    result2 = first_word('SequenCes of DeCiSions')\n",
    "    result3 = first_word('Wolf, Panther, Leopard, Dog, Cat')\n",
    "    return result0, result1, result2, result3"
   ]
  },
  {
   "cell_type": "code",
   "execution_count": 24,
   "metadata": {},
   "outputs": [
    {
     "name": "stdout",
     "output_type": "stream",
     "text": [
      "('to', 'class', 'decisions', 'cat')\n"
     ]
    }
   ],
   "source": [
    "if __name__ == '__main__':\n",
    "    print(first_word_test())"
   ]
  },
  {
   "cell_type": "markdown",
   "metadata": {},
   "source": [
    "## Load from Drive*\n",
    "\n",
    "*If you are using Goolge Colab, uncomment the following piece of code and verify the file using the command, if you can see your file ```penguins.csv``` you are good to go."
   ]
  },
  {
   "cell_type": "code",
   "execution_count": null,
   "metadata": {},
   "outputs": [],
   "source": [
    "# !pwd\n",
    "# !ls"
   ]
  },
  {
   "cell_type": "code",
   "execution_count": null,
   "metadata": {},
   "outputs": [],
   "source": [
    "#from google.colab import drive\n",
    "#drive.mount('/content/drive')\n",
    "#%cd ..\n",
    "#%cd /content/drive/MyDrive"
   ]
  },
  {
   "cell_type": "markdown",
   "metadata": {},
   "source": [
    "<a id='part3'></a>\n",
    "##  Part 3 - Pandas Basics [20 Points]\n",
    "\n",
    "Some important resources:\n",
    "\n",
    "- [A Pandas guide](https://pandasguide.readthedocs.io/en/latest/) covers fundamental information about the package\n",
    "\n",
    "- [Pandas Cheat Sheet](https://www.datacamp.com/community/blog/python-pandas-cheat-sheet)\n",
    "\n",
    "### Penguin dataset\n",
    "In this section we will explore with you Palmer Archipelago (Antarctica) penguin dataset. It contains three penguin species and includes measurements of bill length, bill depth, flipper length and body mass. Overall, we are provided with 344 data samples.\n",
    "![image.png](attachment:image.png)\n",
    "\n",
    "The dataset consists of 7 columns:\n",
    "- species: penguin species (Chinstrap, Adélie, or Gentoo)\n",
    "- culmen_length_mm: culmen length (mm)\n",
    "- culmen_depth_mm: culmen depth (mm)\n",
    "- flipper_length_mm: flipper length (mm)\n",
    "- body_mass_g: body mass (g)\n",
    "- island: island name (Dream, Torgersen, or Biscoe) in the Palmer Archipelago (Antarctica)\n",
    "- gender: penguin gender (female, male)\n",
    "\n",
    "#### What are culmen length & depth?\n",
    "The culmen is \"the upper ridge of a bird's beak\"\n",
    "\n",
    "[Culmen length & depth Image](https://allisonhorst.github.io/palmerpenguins/reference/figures/culmen_depth.png)\n",
    "\n",
    "\n",
    "#### What are flippers?\n",
    "Penguins wings are called flippers. They are flat, thin, and broad with a long, tapered shape and a blunt, rounded tip.\n",
    "\n",
    "[Penguins Body Parts Image](https://ubuffalo-my.sharepoint.com/:i:/g/personal/avereshc_buffalo_edu/EXuO-kSq4j9Pg7BUwq5WkycBDkRx3Ku_h76OmhjbDBA1dw?e=P0lIFc)\n"
   ]
  },
  {
   "cell_type": "code",
   "execution_count": 2,
   "metadata": {},
   "outputs": [
    {
     "name": "stderr",
     "output_type": "stream",
     "text": [
      "\n",
      "[notice] A new release of pip is available: 23.1.2 -> 23.2.1\n",
      "[notice] To update, run: python.exe -m pip install --upgrade pip\n"
     ]
    },
    {
     "name": "stdout",
     "output_type": "stream",
     "text": [
      "Requirement already satisfied: pandas in c:\\users\\phani\\appdata\\local\\programs\\python\\python311\\lib\\site-packages (2.1.0)\n",
      "Requirement already satisfied: numpy>=1.23.2 in c:\\users\\phani\\appdata\\local\\programs\\python\\python311\\lib\\site-packages (from pandas) (1.25.2)\n",
      "Requirement already satisfied: python-dateutil>=2.8.2 in c:\\users\\phani\\appdata\\roaming\\python\\python311\\site-packages (from pandas) (2.8.2)\n",
      "Requirement already satisfied: pytz>=2020.1 in c:\\users\\phani\\appdata\\local\\programs\\python\\python311\\lib\\site-packages (from pandas) (2023.3)\n",
      "Requirement already satisfied: tzdata>=2022.1 in c:\\users\\phani\\appdata\\local\\programs\\python\\python311\\lib\\site-packages (from pandas) (2023.3)\n",
      "Requirement already satisfied: six>=1.5 in c:\\users\\phani\\appdata\\roaming\\python\\python311\\site-packages (from python-dateutil>=2.8.2->pandas) (1.16.0)\n"
     ]
    }
   ],
   "source": [
    "''' 1. Install and import pandas library\n",
    "'''\n",
    "\n",
    "# BEGIN_YOUR_CODE\n",
    "\n",
    "!pip install pandas\n",
    "\n",
    "import pandas as pd\n",
    "\n",
    "# END_YOUR_CODE"
   ]
  },
  {
   "cell_type": "code",
   "execution_count": 158,
   "metadata": {},
   "outputs": [
    {
     "data": {
      "text/plain": [
       "(       species     island  bill_length_mm  bill_depth_mm  flipper_length_mm  \\\n",
       " 0       Adelie  Torgersen            39.1           18.7              181.0   \n",
       " 1       Adelie  Torgersen            39.5           17.4              186.0   \n",
       " 2       Adelie  Torgersen            40.3           18.0              195.0   \n",
       " 3       Adelie  Torgersen             NaN            NaN                NaN   \n",
       " 4       Adelie  Torgersen            36.7           19.3              193.0   \n",
       " ..         ...        ...             ...            ...                ...   \n",
       " 339  Chinstrap      Dream            55.8           19.8              207.0   \n",
       " 340  Chinstrap      Dream            43.5           18.1              202.0   \n",
       " 341  Chinstrap      Dream            49.6           18.2              193.0   \n",
       " 342  Chinstrap      Dream            50.8           19.0              210.0   \n",
       " 343  Chinstrap      Dream            50.2           18.7              198.0   \n",
       " \n",
       "      body_mass_g  gender  year  \n",
       " 0         3750.0    male  2007  \n",
       " 1         3800.0  female  2007  \n",
       " 2         3250.0  female  2007  \n",
       " 3            NaN     NaN  2007  \n",
       " 4         3450.0  female  2007  \n",
       " ..           ...     ...   ...  \n",
       " 339       4000.0    male  2009  \n",
       " 340       3400.0  female  2009  \n",
       " 341       3775.0    male  2009  \n",
       " 342       4100.0    male  2009  \n",
       " 343       3775.0  female  2009  \n",
       " \n",
       " [344 rows x 8 columns],\n",
       " pandas.core.frame.DataFrame)"
      ]
     },
     "execution_count": 158,
     "metadata": {},
     "output_type": "execute_result"
    }
   ],
   "source": [
    "''' 2. Reading data\n",
    "Read the dataset and extract it into a DataFrame using the Pandas library.\n",
    "'''\n",
    "\n",
    "# BEGIN_YOUR_CODE\n",
    "\n",
    "df = pd.read_csv('penguins.csv')\n",
    "df,type(df)\n",
    "\n",
    "# END_YOUR_CODE"
   ]
  },
  {
   "cell_type": "code",
   "execution_count": 4,
   "metadata": {},
   "outputs": [
    {
     "data": {
      "text/html": [
       "<div>\n",
       "<style scoped>\n",
       "    .dataframe tbody tr th:only-of-type {\n",
       "        vertical-align: middle;\n",
       "    }\n",
       "\n",
       "    .dataframe tbody tr th {\n",
       "        vertical-align: top;\n",
       "    }\n",
       "\n",
       "    .dataframe thead th {\n",
       "        text-align: right;\n",
       "    }\n",
       "</style>\n",
       "<table border=\"1\" class=\"dataframe\">\n",
       "  <thead>\n",
       "    <tr style=\"text-align: right;\">\n",
       "      <th></th>\n",
       "      <th>bill_length_mm</th>\n",
       "      <th>bill_depth_mm</th>\n",
       "      <th>flipper_length_mm</th>\n",
       "      <th>body_mass_g</th>\n",
       "      <th>year</th>\n",
       "    </tr>\n",
       "  </thead>\n",
       "  <tbody>\n",
       "    <tr>\n",
       "      <th>count</th>\n",
       "      <td>342.000000</td>\n",
       "      <td>342.000000</td>\n",
       "      <td>342.000000</td>\n",
       "      <td>342.000000</td>\n",
       "      <td>344.000000</td>\n",
       "    </tr>\n",
       "    <tr>\n",
       "      <th>mean</th>\n",
       "      <td>43.921930</td>\n",
       "      <td>17.151170</td>\n",
       "      <td>200.915205</td>\n",
       "      <td>4201.754386</td>\n",
       "      <td>2008.029070</td>\n",
       "    </tr>\n",
       "    <tr>\n",
       "      <th>std</th>\n",
       "      <td>5.459584</td>\n",
       "      <td>1.974793</td>\n",
       "      <td>14.061714</td>\n",
       "      <td>801.954536</td>\n",
       "      <td>0.818356</td>\n",
       "    </tr>\n",
       "    <tr>\n",
       "      <th>min</th>\n",
       "      <td>32.100000</td>\n",
       "      <td>13.100000</td>\n",
       "      <td>172.000000</td>\n",
       "      <td>2700.000000</td>\n",
       "      <td>2007.000000</td>\n",
       "    </tr>\n",
       "    <tr>\n",
       "      <th>25%</th>\n",
       "      <td>39.225000</td>\n",
       "      <td>15.600000</td>\n",
       "      <td>190.000000</td>\n",
       "      <td>3550.000000</td>\n",
       "      <td>2007.000000</td>\n",
       "    </tr>\n",
       "    <tr>\n",
       "      <th>50%</th>\n",
       "      <td>44.450000</td>\n",
       "      <td>17.300000</td>\n",
       "      <td>197.000000</td>\n",
       "      <td>4050.000000</td>\n",
       "      <td>2008.000000</td>\n",
       "    </tr>\n",
       "    <tr>\n",
       "      <th>75%</th>\n",
       "      <td>48.500000</td>\n",
       "      <td>18.700000</td>\n",
       "      <td>213.000000</td>\n",
       "      <td>4750.000000</td>\n",
       "      <td>2009.000000</td>\n",
       "    </tr>\n",
       "    <tr>\n",
       "      <th>max</th>\n",
       "      <td>59.600000</td>\n",
       "      <td>21.500000</td>\n",
       "      <td>231.000000</td>\n",
       "      <td>6300.000000</td>\n",
       "      <td>2009.000000</td>\n",
       "    </tr>\n",
       "  </tbody>\n",
       "</table>\n",
       "</div>"
      ],
      "text/plain": [
       "       bill_length_mm  bill_depth_mm  flipper_length_mm  body_mass_g  \\\n",
       "count      342.000000     342.000000         342.000000   342.000000   \n",
       "mean        43.921930      17.151170         200.915205  4201.754386   \n",
       "std          5.459584       1.974793          14.061714   801.954536   \n",
       "min         32.100000      13.100000         172.000000  2700.000000   \n",
       "25%         39.225000      15.600000         190.000000  3550.000000   \n",
       "50%         44.450000      17.300000         197.000000  4050.000000   \n",
       "75%         48.500000      18.700000         213.000000  4750.000000   \n",
       "max         59.600000      21.500000         231.000000  6300.000000   \n",
       "\n",
       "              year  \n",
       "count   344.000000  \n",
       "mean   2008.029070  \n",
       "std       0.818356  \n",
       "min    2007.000000  \n",
       "25%    2007.000000  \n",
       "50%    2008.000000  \n",
       "75%    2009.000000  \n",
       "max    2009.000000  "
      ]
     },
     "execution_count": 4,
     "metadata": {},
     "output_type": "execute_result"
    }
   ],
   "source": [
    "''' 3. Basic Statistics \n",
    "Provide the main statistics about the entries in the dataset, including mean, standard deviation, and other relevant statistics.\n",
    "'''\n",
    "\n",
    "# BEGIN_YOUR_CODE\n",
    "\n",
    "df.describe()\n",
    "\n",
    "# END_YOUR_CODE"
   ]
  },
  {
   "cell_type": "code",
   "execution_count": 5,
   "metadata": {},
   "outputs": [
    {
     "data": {
      "text/html": [
       "<div>\n",
       "<style scoped>\n",
       "    .dataframe tbody tr th:only-of-type {\n",
       "        vertical-align: middle;\n",
       "    }\n",
       "\n",
       "    .dataframe tbody tr th {\n",
       "        vertical-align: top;\n",
       "    }\n",
       "\n",
       "    .dataframe thead th {\n",
       "        text-align: right;\n",
       "    }\n",
       "</style>\n",
       "<table border=\"1\" class=\"dataframe\">\n",
       "  <thead>\n",
       "    <tr style=\"text-align: right;\">\n",
       "      <th></th>\n",
       "      <th>species</th>\n",
       "      <th>island</th>\n",
       "      <th>bill_length_mm</th>\n",
       "      <th>bill_depth_mm</th>\n",
       "      <th>flipper_length_mm</th>\n",
       "      <th>body_mass_g</th>\n",
       "      <th>gender</th>\n",
       "      <th>year</th>\n",
       "    </tr>\n",
       "  </thead>\n",
       "  <tbody>\n",
       "    <tr>\n",
       "      <th>0</th>\n",
       "      <td>Adelie</td>\n",
       "      <td>Torgersen</td>\n",
       "      <td>39.1</td>\n",
       "      <td>18.7</td>\n",
       "      <td>181.0</td>\n",
       "      <td>3750.0</td>\n",
       "      <td>male</td>\n",
       "      <td>2007</td>\n",
       "    </tr>\n",
       "    <tr>\n",
       "      <th>1</th>\n",
       "      <td>Adelie</td>\n",
       "      <td>Torgersen</td>\n",
       "      <td>39.5</td>\n",
       "      <td>17.4</td>\n",
       "      <td>186.0</td>\n",
       "      <td>3800.0</td>\n",
       "      <td>female</td>\n",
       "      <td>2007</td>\n",
       "    </tr>\n",
       "    <tr>\n",
       "      <th>2</th>\n",
       "      <td>Adelie</td>\n",
       "      <td>Torgersen</td>\n",
       "      <td>40.3</td>\n",
       "      <td>18.0</td>\n",
       "      <td>195.0</td>\n",
       "      <td>3250.0</td>\n",
       "      <td>female</td>\n",
       "      <td>2007</td>\n",
       "    </tr>\n",
       "    <tr>\n",
       "      <th>3</th>\n",
       "      <td>Adelie</td>\n",
       "      <td>Torgersen</td>\n",
       "      <td>NaN</td>\n",
       "      <td>NaN</td>\n",
       "      <td>NaN</td>\n",
       "      <td>NaN</td>\n",
       "      <td>NaN</td>\n",
       "      <td>2007</td>\n",
       "    </tr>\n",
       "    <tr>\n",
       "      <th>4</th>\n",
       "      <td>Adelie</td>\n",
       "      <td>Torgersen</td>\n",
       "      <td>36.7</td>\n",
       "      <td>19.3</td>\n",
       "      <td>193.0</td>\n",
       "      <td>3450.0</td>\n",
       "      <td>female</td>\n",
       "      <td>2007</td>\n",
       "    </tr>\n",
       "    <tr>\n",
       "      <th>5</th>\n",
       "      <td>Adelie</td>\n",
       "      <td>Torgersen</td>\n",
       "      <td>39.3</td>\n",
       "      <td>20.6</td>\n",
       "      <td>190.0</td>\n",
       "      <td>3650.0</td>\n",
       "      <td>male</td>\n",
       "      <td>2007</td>\n",
       "    </tr>\n",
       "    <tr>\n",
       "      <th>6</th>\n",
       "      <td>Adelie</td>\n",
       "      <td>Torgersen</td>\n",
       "      <td>38.9</td>\n",
       "      <td>17.8</td>\n",
       "      <td>181.0</td>\n",
       "      <td>3625.0</td>\n",
       "      <td>female</td>\n",
       "      <td>2007</td>\n",
       "    </tr>\n",
       "    <tr>\n",
       "      <th>7</th>\n",
       "      <td>Adelie</td>\n",
       "      <td>Torgersen</td>\n",
       "      <td>39.2</td>\n",
       "      <td>19.6</td>\n",
       "      <td>195.0</td>\n",
       "      <td>4675.0</td>\n",
       "      <td>male</td>\n",
       "      <td>2007</td>\n",
       "    </tr>\n",
       "    <tr>\n",
       "      <th>8</th>\n",
       "      <td>Adelie</td>\n",
       "      <td>Torgersen</td>\n",
       "      <td>34.1</td>\n",
       "      <td>18.1</td>\n",
       "      <td>193.0</td>\n",
       "      <td>3475.0</td>\n",
       "      <td>NaN</td>\n",
       "      <td>2007</td>\n",
       "    </tr>\n",
       "    <tr>\n",
       "      <th>9</th>\n",
       "      <td>Adelie</td>\n",
       "      <td>Torgersen</td>\n",
       "      <td>42.0</td>\n",
       "      <td>20.2</td>\n",
       "      <td>190.0</td>\n",
       "      <td>4250.0</td>\n",
       "      <td>NaN</td>\n",
       "      <td>2007</td>\n",
       "    </tr>\n",
       "    <tr>\n",
       "      <th>10</th>\n",
       "      <td>Adelie</td>\n",
       "      <td>Torgersen</td>\n",
       "      <td>37.8</td>\n",
       "      <td>17.1</td>\n",
       "      <td>186.0</td>\n",
       "      <td>3300.0</td>\n",
       "      <td>NaN</td>\n",
       "      <td>2007</td>\n",
       "    </tr>\n",
       "    <tr>\n",
       "      <th>11</th>\n",
       "      <td>Adelie</td>\n",
       "      <td>Torgersen</td>\n",
       "      <td>37.8</td>\n",
       "      <td>17.3</td>\n",
       "      <td>180.0</td>\n",
       "      <td>3700.0</td>\n",
       "      <td>NaN</td>\n",
       "      <td>2007</td>\n",
       "    </tr>\n",
       "    <tr>\n",
       "      <th>12</th>\n",
       "      <td>Adelie</td>\n",
       "      <td>Torgersen</td>\n",
       "      <td>41.1</td>\n",
       "      <td>17.6</td>\n",
       "      <td>182.0</td>\n",
       "      <td>3200.0</td>\n",
       "      <td>female</td>\n",
       "      <td>2007</td>\n",
       "    </tr>\n",
       "    <tr>\n",
       "      <th>13</th>\n",
       "      <td>Adelie</td>\n",
       "      <td>Torgersen</td>\n",
       "      <td>38.6</td>\n",
       "      <td>21.2</td>\n",
       "      <td>191.0</td>\n",
       "      <td>3800.0</td>\n",
       "      <td>male</td>\n",
       "      <td>2007</td>\n",
       "    </tr>\n",
       "    <tr>\n",
       "      <th>14</th>\n",
       "      <td>Adelie</td>\n",
       "      <td>Torgersen</td>\n",
       "      <td>34.6</td>\n",
       "      <td>21.1</td>\n",
       "      <td>198.0</td>\n",
       "      <td>4400.0</td>\n",
       "      <td>male</td>\n",
       "      <td>2007</td>\n",
       "    </tr>\n",
       "  </tbody>\n",
       "</table>\n",
       "</div>"
      ],
      "text/plain": [
       "   species     island  bill_length_mm  bill_depth_mm  flipper_length_mm  \\\n",
       "0   Adelie  Torgersen            39.1           18.7              181.0   \n",
       "1   Adelie  Torgersen            39.5           17.4              186.0   \n",
       "2   Adelie  Torgersen            40.3           18.0              195.0   \n",
       "3   Adelie  Torgersen             NaN            NaN                NaN   \n",
       "4   Adelie  Torgersen            36.7           19.3              193.0   \n",
       "5   Adelie  Torgersen            39.3           20.6              190.0   \n",
       "6   Adelie  Torgersen            38.9           17.8              181.0   \n",
       "7   Adelie  Torgersen            39.2           19.6              195.0   \n",
       "8   Adelie  Torgersen            34.1           18.1              193.0   \n",
       "9   Adelie  Torgersen            42.0           20.2              190.0   \n",
       "10  Adelie  Torgersen            37.8           17.1              186.0   \n",
       "11  Adelie  Torgersen            37.8           17.3              180.0   \n",
       "12  Adelie  Torgersen            41.1           17.6              182.0   \n",
       "13  Adelie  Torgersen            38.6           21.2              191.0   \n",
       "14  Adelie  Torgersen            34.6           21.1              198.0   \n",
       "\n",
       "    body_mass_g  gender  year  \n",
       "0        3750.0    male  2007  \n",
       "1        3800.0  female  2007  \n",
       "2        3250.0  female  2007  \n",
       "3           NaN     NaN  2007  \n",
       "4        3450.0  female  2007  \n",
       "5        3650.0    male  2007  \n",
       "6        3625.0  female  2007  \n",
       "7        4675.0    male  2007  \n",
       "8        3475.0     NaN  2007  \n",
       "9        4250.0     NaN  2007  \n",
       "10       3300.0     NaN  2007  \n",
       "11       3700.0     NaN  2007  \n",
       "12       3200.0  female  2007  \n",
       "13       3800.0    male  2007  \n",
       "14       4400.0    male  2007  "
      ]
     },
     "execution_count": 5,
     "metadata": {},
     "output_type": "execute_result"
    }
   ],
   "source": [
    "''' 4. Dataset overview\n",
    "Print top 15 rows of the dataset'''\n",
    "\n",
    "# BEGIN_YOUR_CODE\n",
    "\n",
    "df.head(15)\n",
    "\n",
    "# END_YOUR_CODE"
   ]
  },
  {
   "cell_type": "code",
   "execution_count": 7,
   "metadata": {},
   "outputs": [
    {
     "data": {
      "text/plain": [
       "(344, 8)"
      ]
     },
     "execution_count": 7,
     "metadata": {},
     "output_type": "execute_result"
    }
   ],
   "source": [
    "''' 5. Shape\n",
    "Print shape of the dataset '''\n",
    "\n",
    "# BEGIN_YOUR_CODE\n",
    "\n",
    "df.shape\n",
    "\n",
    "# END_YOUR_CODE"
   ]
  },
  {
   "cell_type": "code",
   "execution_count": 16,
   "metadata": {},
   "outputs": [
    {
     "data": {
      "text/plain": [
       "['species',\n",
       " 'island',\n",
       " 'bill_length_mm',\n",
       " 'bill_depth_mm',\n",
       " 'flipper_length_mm',\n",
       " 'body_mass_g',\n",
       " 'gender',\n",
       " 'year']"
      ]
     },
     "execution_count": 16,
     "metadata": {},
     "output_type": "execute_result"
    }
   ],
   "source": [
    "''' 6. Columns\n",
    "Identify and return all the unique column names'''\n",
    "\n",
    "# BEGIN_YOUR_CODE\n",
    "\n",
    "list(df.columns)\n",
    "\n",
    "# END_YOUR_CODE"
   ]
  },
  {
   "cell_type": "code",
   "execution_count": 15,
   "metadata": {},
   "outputs": [
    {
     "data": {
      "text/plain": [
       "['Adelie', 'Gentoo', 'Chinstrap']"
      ]
     },
     "execution_count": 15,
     "metadata": {},
     "output_type": "execute_result"
    }
   ],
   "source": [
    "''' 7. Penguin species\n",
    "Print a list of penguin species used in the dateset'''\n",
    "\n",
    "# BEGIN_YOUR_CODE\n",
    "\n",
    "list(df['species'].unique())\n",
    "\n",
    "# END_YOUR_CODE"
   ]
  },
  {
   "cell_type": "code",
   "execution_count": 149,
   "metadata": {},
   "outputs": [
    {
     "data": {
      "text/html": [
       "<div>\n",
       "<style scoped>\n",
       "    .dataframe tbody tr th:only-of-type {\n",
       "        vertical-align: middle;\n",
       "    }\n",
       "\n",
       "    .dataframe tbody tr th {\n",
       "        vertical-align: top;\n",
       "    }\n",
       "\n",
       "    .dataframe thead th {\n",
       "        text-align: right;\n",
       "    }\n",
       "</style>\n",
       "<table border=\"1\" class=\"dataframe\">\n",
       "  <thead>\n",
       "    <tr style=\"text-align: right;\">\n",
       "      <th></th>\n",
       "      <th>species</th>\n",
       "      <th>species_categorical</th>\n",
       "    </tr>\n",
       "  </thead>\n",
       "  <tbody>\n",
       "    <tr>\n",
       "      <th>0</th>\n",
       "      <td>Adelie</td>\n",
       "      <td>0</td>\n",
       "    </tr>\n",
       "    <tr>\n",
       "      <th>1</th>\n",
       "      <td>Adelie</td>\n",
       "      <td>0</td>\n",
       "    </tr>\n",
       "    <tr>\n",
       "      <th>2</th>\n",
       "      <td>Adelie</td>\n",
       "      <td>0</td>\n",
       "    </tr>\n",
       "    <tr>\n",
       "      <th>3</th>\n",
       "      <td>Adelie</td>\n",
       "      <td>0</td>\n",
       "    </tr>\n",
       "    <tr>\n",
       "      <th>4</th>\n",
       "      <td>Adelie</td>\n",
       "      <td>0</td>\n",
       "    </tr>\n",
       "    <tr>\n",
       "      <th>...</th>\n",
       "      <td>...</td>\n",
       "      <td>...</td>\n",
       "    </tr>\n",
       "    <tr>\n",
       "      <th>339</th>\n",
       "      <td>Chinstrap</td>\n",
       "      <td>2</td>\n",
       "    </tr>\n",
       "    <tr>\n",
       "      <th>340</th>\n",
       "      <td>Chinstrap</td>\n",
       "      <td>2</td>\n",
       "    </tr>\n",
       "    <tr>\n",
       "      <th>341</th>\n",
       "      <td>Chinstrap</td>\n",
       "      <td>2</td>\n",
       "    </tr>\n",
       "    <tr>\n",
       "      <th>342</th>\n",
       "      <td>Chinstrap</td>\n",
       "      <td>2</td>\n",
       "    </tr>\n",
       "    <tr>\n",
       "      <th>343</th>\n",
       "      <td>Chinstrap</td>\n",
       "      <td>2</td>\n",
       "    </tr>\n",
       "  </tbody>\n",
       "</table>\n",
       "<p>344 rows × 2 columns</p>\n",
       "</div>"
      ],
      "text/plain": [
       "       species species_categorical\n",
       "0       Adelie                   0\n",
       "1       Adelie                   0\n",
       "2       Adelie                   0\n",
       "3       Adelie                   0\n",
       "4       Adelie                   0\n",
       "..         ...                 ...\n",
       "339  Chinstrap                   2\n",
       "340  Chinstrap                   2\n",
       "341  Chinstrap                   2\n",
       "342  Chinstrap                   2\n",
       "343  Chinstrap                   2\n",
       "\n",
       "[344 rows x 2 columns]"
      ]
     },
     "execution_count": 149,
     "metadata": {},
     "output_type": "execute_result"
    }
   ],
   "source": [
    "''' 8. String to categorical\n",
    "Convert one of the features with string datatype to categorical (e.g. species, island, gender).\n",
    "This can be done by assigning a unique numerical value to each unique string value in each categorical feature\n",
    "\n",
    "https://pandas.pydata.org/docs/user_guide/categorical.html\n",
    "\n",
    "Example:\n",
    "species = ['setosa', 'versicolor', 'setosa', 'virginica', 'versicolor']\n",
    "species_categorical = [0, 1, 0, 2, 1]\n",
    "'''\n",
    "\n",
    "# BEGIN_YOUR_CODE\n",
    "categories={'Adelie':0, 'Gentoo':1, 'Chinstrap':2}\n",
    "\n",
    "df['species_categorical'] =  df['species'].map(categories).astype(\"category\")\n",
    "\n",
    "df[['species','species_categorical']]\n",
    "\n",
    "# END_YOUR_CODE"
   ]
  },
  {
   "cell_type": "code",
   "execution_count": 157,
   "metadata": {},
   "outputs": [
    {
     "data": {
      "text/html": [
       "<div>\n",
       "<style scoped>\n",
       "    .dataframe tbody tr th:only-of-type {\n",
       "        vertical-align: middle;\n",
       "    }\n",
       "\n",
       "    .dataframe tbody tr th {\n",
       "        vertical-align: top;\n",
       "    }\n",
       "\n",
       "    .dataframe thead th {\n",
       "        text-align: right;\n",
       "    }\n",
       "</style>\n",
       "<table border=\"1\" class=\"dataframe\">\n",
       "  <thead>\n",
       "    <tr style=\"text-align: right;\">\n",
       "      <th></th>\n",
       "      <th>body_mass_g</th>\n",
       "      <th>norm_body_mass_g</th>\n",
       "    </tr>\n",
       "  </thead>\n",
       "  <tbody>\n",
       "    <tr>\n",
       "      <th>0</th>\n",
       "      <td>3750.0</td>\n",
       "      <td>0.291667</td>\n",
       "    </tr>\n",
       "    <tr>\n",
       "      <th>1</th>\n",
       "      <td>3800.0</td>\n",
       "      <td>0.305556</td>\n",
       "    </tr>\n",
       "    <tr>\n",
       "      <th>2</th>\n",
       "      <td>3250.0</td>\n",
       "      <td>0.152778</td>\n",
       "    </tr>\n",
       "    <tr>\n",
       "      <th>4</th>\n",
       "      <td>3450.0</td>\n",
       "      <td>0.208333</td>\n",
       "    </tr>\n",
       "    <tr>\n",
       "      <th>5</th>\n",
       "      <td>3650.0</td>\n",
       "      <td>0.263889</td>\n",
       "    </tr>\n",
       "    <tr>\n",
       "      <th>...</th>\n",
       "      <td>...</td>\n",
       "      <td>...</td>\n",
       "    </tr>\n",
       "    <tr>\n",
       "      <th>339</th>\n",
       "      <td>4000.0</td>\n",
       "      <td>0.361111</td>\n",
       "    </tr>\n",
       "    <tr>\n",
       "      <th>340</th>\n",
       "      <td>3400.0</td>\n",
       "      <td>0.194444</td>\n",
       "    </tr>\n",
       "    <tr>\n",
       "      <th>341</th>\n",
       "      <td>3775.0</td>\n",
       "      <td>0.298611</td>\n",
       "    </tr>\n",
       "    <tr>\n",
       "      <th>342</th>\n",
       "      <td>4100.0</td>\n",
       "      <td>0.388889</td>\n",
       "    </tr>\n",
       "    <tr>\n",
       "      <th>343</th>\n",
       "      <td>3775.0</td>\n",
       "      <td>0.298611</td>\n",
       "    </tr>\n",
       "  </tbody>\n",
       "</table>\n",
       "<p>342 rows × 2 columns</p>\n",
       "</div>"
      ],
      "text/plain": [
       "     body_mass_g  norm_body_mass_g\n",
       "0         3750.0          0.291667\n",
       "1         3800.0          0.305556\n",
       "2         3250.0          0.152778\n",
       "4         3450.0          0.208333\n",
       "5         3650.0          0.263889\n",
       "..           ...               ...\n",
       "339       4000.0          0.361111\n",
       "340       3400.0          0.194444\n",
       "341       3775.0          0.298611\n",
       "342       4100.0          0.388889\n",
       "343       3775.0          0.298611\n",
       "\n",
       "[342 rows x 2 columns]"
      ]
     },
     "execution_count": 157,
     "metadata": {},
     "output_type": "execute_result"
    }
   ],
   "source": [
    "''' 9. Feature normalization\n",
    "Normalize one of the non-categorical features.\n",
    "   a. Select a column that you want to normalize (e.g. culmen_length_mm, culmen_depth_mm, flipper_length_mm, body_mass_g)\n",
    "   b. Find the min and max values for accross the selected column\n",
    "   c. Rescale the selected column to the range from 0 to 1 using the formula (x - min) / (max - min), where x is the original value\n",
    "   d. Store the normalized values and print the results\n",
    "\n",
    "Why do we do this? Normalization is to transform features to be on a similar scale. This improves the performance and training stability of the model.\n",
    "Note: normalize() function is not allowed as it is a part of scikit-learn library\n",
    "'''\n",
    "\n",
    "# BEGIN_YOUR_CODE\n",
    "\n",
    "bmassmin,bmassmax=np.min(df['body_mass_g']),np.max(df['body_mass_g'])\n",
    "\n",
    "df['norm_body_mass_g']=df['body_mass_g'].map(lambda x:(x-bmassmin)/(bmassmax-bmassmin))\n",
    "\n",
    "df[['body_mass_g','norm_body_mass_g']].dropna()\n",
    "\n",
    "# END_YOUR_CODE"
   ]
  },
  {
   "cell_type": "markdown",
   "metadata": {},
   "source": [
    "<a id='part4'></a>\n",
    "## Part 4: Matplotlib Basics [20 Points]"
   ]
  },
  {
   "cell_type": "markdown",
   "metadata": {},
   "source": [
    "Heatmaps is a useful plot tool which help us visualize the data density or distribution. Refer the below documentation for more details on heatmap.\n",
    "\n",
    "[Matplotlib tutorial](https://machinelearningknowledge.ai/matplotlib-heatmap-complete-tutorial-for-beginners/)\n",
    "\n",
    "**Note:** You can only use matplotlib library for the following tasks"
   ]
  },
  {
   "cell_type": "code",
   "execution_count": null,
   "metadata": {},
   "outputs": [],
   "source": [
    "''' 1. Install and import matplotlib library\n",
    "'''\n",
    "\n",
    "# BEGIN_YOUR_CODE\n",
    "\n",
    "# END_YOUR_CODE"
   ]
  },
  {
   "cell_type": "code",
   "execution_count": null,
   "metadata": {},
   "outputs": [],
   "source": [
    "''' 2. Creating and visualizing a heatmap\n",
    "Randomly generated 2D array to create and visualize a heatmap using Matplotlib.\n",
    "You can refer to: https://matplotlib.org/stable/gallery/images_contours_and_fields/image_annotated_heatmap.html\n",
    "a. Generate a random 2D array with dimensions 12x15 using any function, e.g. np.random.rand(), np.random.uniform(), np.random.randint()\n",
    "b. Create the heatmap using plt.imshow() and pass the random array as the data\n",
    "c. Customize the plot by adding a colorbar using plt.colorbar() and providing a descriptive title using plt.title()\n",
    "d. Display the heatmap using plt.show()\n",
    "'''\n",
    "\n",
    "# BEGIN YOUR CODE\n",
    "\n",
    "# END YOUR CODE"
   ]
  },
  {
   "cell_type": "code",
   "execution_count": null,
   "metadata": {},
   "outputs": [],
   "source": [
    "''' 3. Plotting a function\n",
    "Explore list comprehension and visualization by plotting the function y = 1/x, for a given range of x values. \n",
    "List comprehension is a powerful technique that allows you to create lists in a concise and efficient way.\n",
    "You can check https://docs.python.org/3/tutorial/datastructures.html#list-comprehensions to learn how to use list comprehension\n",
    "a. Given the range of x values from 1 to 25, both inclusive, use list comprehension to calculate the corresponding y values for y = 1/x\n",
    "b. Create the plot using plt.plot() by passing the calculated x and y values as arguments\n",
    "c. Improve the plot by providing a title, labeling the x-axis and y-axis using plt.title(), plt.xlabel(), and plt.ylabel()\n",
    "d. Add a grid to the plot for better readability using plt.grid()\n",
    "e. Display the plot using plt.show()\n",
    "\n",
    "'''\n",
    "\n",
    "x = range(1,26)\n",
    "\n",
    "# BEGIN YOUR CODE\n",
    "\n",
    "# END YOUR CODE"
   ]
  },
  {
   "cell_type": "code",
   "execution_count": null,
   "metadata": {},
   "outputs": [],
   "source": [
    "''' 4. Plotting a function using lambda function\n",
    "For the given value x plot the function y = x^3 using lambda function y.\n",
    "\n",
    "Lambda function is a small anonymous function which consist of a single expression, and is usually used when we need the function for a smaller duration\n",
    "https://realpython.com/python-lambda/\n",
    "\n",
    "a. Given the range of x values from 0 to 24, use a lambda function to calculate the corresponding y values based on the function y = x^3\n",
    "b. Create the plot using plt.plot() with the calculated x and y values\n",
    "c. Customize the plot by adding a title, x-axis label, y-axis label, and grid using plt.title(), plt.xlabel(), plt.ylabel(), and plt.grid().\n",
    "d. Display the plot\n",
    "'''\n",
    "\n",
    "x = range(25)\n",
    "\n",
    "# BEGIN YOUR CODE\n",
    "\n",
    "# END YOUR CODE\n"
   ]
  },
  {
   "cell_type": "code",
   "execution_count": null,
   "metadata": {},
   "outputs": [],
   "source": [
    "''' 5. Plotting multiple functions on one graph\n",
    "Plot a graph with two lines representing the functions y = x^3 and y = x^4 for the provided range of x values.\n",
    "\n",
    "a. Given the range of x values from 0 to 24, use a lambda function to calculate the corresponding y values for y = x^3 (you can use your code from above)\n",
    "b. For the function y = x^4, calculate the y values using either list comprehension or a lambda function.\n",
    "c. Create the line plot for y = x^3 using plt.plot() and the scatter plot for y = x^4 using plt.scatter().\n",
    "d. Customize the plot by adding a title, x-axis label, y-axis label, legend, and grid using appropriate functions such as plt.title(), plt.xlabel(), plt.ylabel(), plt.legend(), and plt.grid().\n",
    "e. Display the plot using plt.show()\n",
    "\n",
    "Note: you can check more at https://matplotlib.org/stable/tutorials/introductory/pyplot.html\n",
    "'''\n",
    "\n",
    "x = range(25)\n",
    "\n",
    "# BEGIN YOUR CODE\n",
    "\n",
    "# END YOUR CODE"
   ]
  },
  {
   "cell_type": "code",
   "execution_count": null,
   "metadata": {},
   "outputs": [],
   "source": [
    "'''6. Creating subplots\n",
    "\n",
    "Create subplots to display the graphs of the tangent (tan) and cotangent (cot) functions side by side. The value of \n",
    "theta will range from -60 to 60 degrees.\n",
    "\n",
    "a. Generate an array of theta values using np.linspace() or np.arange() to cover the range from -60 to 60 degrees.\n",
    "b. Calculate the corresponding y values for both the tangent (tan) and cotangent (cot) functions using np.tan() and 1 / np.tan()\n",
    "c. Create subplots using plt.subplots() and arrange them side by side\n",
    "d. Plot the tangent and cotangent functions in their respective subplots using plt.plot()\n",
    "e. Customize each subplot with titles and labels for x-axis and y-axis using plt.title(), plt.xlabel(), and plt.ylabel()\n",
    "f. Display the subplots using plt.show()\n",
    "'''\n",
    "\n",
    "# BEGIN YOUR CODE\n",
    "\n",
    "# END YOUR CODE"
   ]
  },
  {
   "cell_type": "code",
   "execution_count": null,
   "metadata": {},
   "outputs": [],
   "source": [
    "''' 7. Plotting total number of penguins per species\n",
    "Use Penguin (\"penguin.csv\") dataset uploaded above to plot the total number of penguins per species\n",
    "a. Group the data by the \"species\" column and calculate the total number of penguins for each species using groupby() and count()\n",
    "b. Create a bar graph using plt.bar() to display the total number of penguins per species\n",
    "c. Customize the graph by adding a title, x-axis label, y-axis label, rotating x-axis labels for better readability\n",
    "d. Display the plot\n",
    "'''\n",
    "\n",
    "# BEGIN YOUR CODE\n",
    "\n",
    "# END YOUR CODE"
   ]
  },
  {
   "cell_type": "code",
   "execution_count": null,
   "metadata": {},
   "outputs": [],
   "source": [
    "''' 8. Plotting total number of penguins in body mass range\n",
    "Display a graph displaying the total number of penguins in the specified body mass range.\n",
    "a. Filter the data to include only the penguins with body mass (body_mass_g) in the range of (3200, 4500], 3200 - exclusive and 4500-inclusive\n",
    "b. Group the filtered data by body mass range using the 'pd.cut()' function with specified bins as follows: 3200-3500, 3500-3800, 3800-4100, 4100-4400, and 4400-4500. After applying 'pd.cut()', use the 'groupby()' function to group the data based on these body mass ranges.\n",
    "c. Create a bar graph using plt.bar() to display the total number of penguins in the specified body mass range\n",
    "d. Customize the graph by adding a title, x-axis label, y-axis label, rotating x-axis labels for better readability\n",
    "e. Display the plot\n",
    "'''\n",
    "\n",
    "# BEGIN YOUR CODE\n",
    "\n",
    "# END YOUR CODE"
   ]
  },
  {
   "cell_type": "markdown",
   "metadata": {},
   "source": [
    "#### Results analyzing\n",
    "\n",
    "Analyze the graph and answer the following two questions:\n",
    "\n",
    "**1) What is your inference from the above graph?**\n",
    "\n",
    "*YOUR ANSWER:*\n",
    "\n",
    "**2) What is the distribution of penguins across different body mass ranges within the specified range(3200, 4500]?**\n",
    "\n",
    "*YOUR ANSWER:*\n",
    "\n",
    "**3) Which is the most common species of penguins?**\n",
    "\n",
    "*YOUR ANSWER:*\n"
   ]
  },
  {
   "cell_type": "markdown",
   "metadata": {},
   "source": [
    "<a id='part5'></a>\n",
    "# Part 5: Sckit-learn Basics [20 Points]\n",
    "\n",
    "Skit-learn is a commonly used data analysis library. It contains in-build unsupervised and supervised learning algorithms. Check more details here - https://scikit-learn.org/stable/.\n",
    "In this part we will use scikit-learn library"
   ]
  },
  {
   "cell_type": "code",
   "execution_count": null,
   "metadata": {},
   "outputs": [],
   "source": [
    "''' 1. Install and import scikit-learn library\n",
    "'''\n",
    "\n",
    "# BEGIN_YOUR_CODE\n",
    "\n",
    "# END_YOUR_CODE"
   ]
  },
  {
   "cell_type": "code",
   "execution_count": null,
   "metadata": {},
   "outputs": [],
   "source": [
    "''' 2. Prepare Penguins dataset for training\n",
    "a. Define our X_data = all the columns, exept 'Species'. You can use drop() function\n",
    "b. Define Y_target = 'Species' column from the dataset\n",
    "c. Use the train_test_split() function to split the dataset into training and testing sets. Pass the features (X_data) and target (Y_target), set test_size to 0.2 for an 80/20 split\n",
    "d. Print the shapes of X_train, X_test, Y_train, and Y_test sets\n",
    "'''\n",
    "\n",
    "# BEGIN_YOUR_CODE\n",
    "\n",
    "# END_YOUR_CODE"
   ]
  },
  {
   "cell_type": "code",
   "execution_count": null,
   "metadata": {},
   "outputs": [],
   "source": [
    "''' 3. Fit the model\n",
    "a. Create and fit a logistic regression model to predict the 'Species' of a penguin using all of the other features in the dataset.\n",
    "b. You can use one hot encoding to encode categorical-based feature ('island' and 'gender') or reuse your code from abouve\n",
    "c. Create a logistic regression model using LogisticRegression()\n",
    "d. Fit the model using the training data\n",
    "e. Make predictions on the testing data using the trained model\n",
    "f. Print the accuracy score by comparing the predicted values with the actual target values using accuracy_score()\n",
    "g. Print the parameter values of the logistic regression model using get_params()\n",
    "\n",
    "You can read more about the inbuild Logistic Regression model here - https://scikit-learn.org/stable/modules/generated/sklearn.linear_model.LogisticRegression.html\n",
    "'''\n",
    "\n",
    "# BEGIN_YOUR_CODE\n",
    "    \n",
    "# END_YOUR_CODE"
   ]
  },
  {
   "cell_type": "markdown",
   "metadata": {},
   "source": [
    "<a id='part6'></a>\n",
    "# Part 6: Optuna Basics [10 Points]\n",
    "\n",
    "Optuna is a an open-source framework that helps to automatically search best hyperparameters, when training machine learning or deep learning models. \n",
    "Check more details here - https://optuna.org/ . In this part we will use optuna framework."
   ]
  },
  {
   "cell_type": "code",
   "execution_count": null,
   "metadata": {},
   "outputs": [],
   "source": [
    "''' 1. Install and import optuna\n",
    "You can read more about installation here - https://optuna.org/#installation\n",
    "'''\n",
    "\n",
    "# BEGIN_YOUR_CODE\n",
    "\n",
    "# END_YOUR_CODE"
   ]
  },
  {
   "cell_type": "markdown",
   "metadata": {},
   "source": [
    "You can refer code examples on how to use optuna here - https://optuna.org/#code_examples"
   ]
  },
  {
   "cell_type": "code",
   "execution_count": null,
   "metadata": {},
   "outputs": [],
   "source": [
    "''' 2. Optimize hyperparameters using Optuna\n",
    "a. Reuse the code from Part 5 for fitting a logistic regression model using scikit-learn\n",
    "b. Use Optuna to determine the optimal values for two hyperparameters in logistic regression: C and max_iter\n",
    "    The aim is to find the hyperparameters that result in the highest accuracy score\n",
    "    The hyperparameter C should be in the range [0.01, 10], and max_iter should be within the range of [100, 1000]\n",
    "c. Print the optimal values of C and max_iter and corresponding accuracy score obtained\n",
    "'''\n",
    "\n",
    "# BEGIN_YOUR_CODE\n",
    "\n",
    "# END_YOUR_CODE"
   ]
  },
  {
   "cell_type": "markdown",
   "metadata": {},
   "source": [
    "<a id='references'></a>\n",
    "## References Used\n",
    "\n",
    "**List below all the references you used to complete this assignment, including full links to the online resources**\n",
    "\n",
    "<font color='red'>Missing references will result in -5 points for the assignmnent. If you haven't used any resources to complete this assignments, just add \"None\" below</font>"
   ]
  },
  {
   "cell_type": "code",
   "execution_count": null,
   "metadata": {},
   "outputs": [],
   "source": [
    "https://numpy.org/doc/stable/reference/arrays.html\n",
    "https://numpy.org/doc/stable/reference/random/generated/numpy.random.rand.html\n",
    "https://pandas.pydata.org/docs/user_guide/categorical.html\n",
    "https://docs.python.org/3/library/random.html?highlight=random#module-random\n"
   ]
  },
  {
   "cell_type": "code",
   "execution_count": null,
   "metadata": {},
   "outputs": [],
   "source": []
  },
  {
   "cell_type": "code",
   "execution_count": null,
   "metadata": {},
   "outputs": [],
   "source": []
  },
  {
   "cell_type": "markdown",
   "metadata": {},
   "source": [
    "**Instructions**:\n",
    "\n",
    "*   Do not copy paste code from the references. You can refer to better understand and then code yourself.\n",
    "*   Prefer official documentations over other sources, for accurate and standard practices.\n",
    "*   Do not use ChatGPT. This assignment is aiming to strengthen your Python skills. Python is a crucial language in AI and data science, so ensure you're comfortable with its various aspects.\n",
    "*   Have fun and all the best!\n",
    "\n",
    "P.S. Start early and post on piazza, if you have any questions!\n",
    "\n",
    "\n",
    "\n"
   ]
  }
 ],
 "metadata": {
  "kernelspec": {
   "display_name": "Python 3",
   "language": "python",
   "name": "python3"
  },
  "language_info": {
   "codemirror_mode": {
    "name": "ipython",
    "version": 3
   },
   "file_extension": ".py",
   "mimetype": "text/x-python",
   "name": "python",
   "nbconvert_exporter": "python",
   "pygments_lexer": "ipython3",
   "version": "3.11.4"
  },
  "orig_nbformat": 4
 },
 "nbformat": 4,
 "nbformat_minor": 2
}
